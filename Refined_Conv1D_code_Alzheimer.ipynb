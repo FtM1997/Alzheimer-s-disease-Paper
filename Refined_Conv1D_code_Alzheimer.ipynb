{
  "cells": [
    {
      "cell_type": "markdown",
      "metadata": {
        "id": "view-in-github",
        "colab_type": "text"
      },
      "source": [
        "<a href=\"https://colab.research.google.com/github/FtM1997/Alzheimer-s-disease-Paper/blob/main/Refined_Conv1D_code_Alzheimer.ipynb\" target=\"_parent\"><img src=\"https://colab.research.google.com/assets/colab-badge.svg\" alt=\"Open In Colab\"/></a>"
      ]
    },
    {
      "cell_type": "markdown",
      "metadata": {
        "id": "j_2niZu2CIqZ"
      },
      "source": [
        "In this python notebook, I am trying to implement this paper:\n",
        "\n",
        "Using shallow neural networks with functional connectivity from EEG signals for early diagnosis of Alzheimer’s and frontotemporal dementia\n"
      ]
    },
    {
      "cell_type": "code",
      "source": [
        "import os\n",
        "import numpy as np\n",
        "import math\n",
        "import random\n",
        "from collections import Counter\n",
        "from google.colab import files\n",
        "from sklearn.model_selection import train_test_split\n",
        "from tensorflow.keras.preprocessing.image import load_img, img_to_array\n",
        "from PIL import Image\n",
        "from tensorflow.keras.utils import to_categorical\n",
        "from sklearn.model_selection import KFold\n",
        "from tensorflow.keras.models import Sequential, Model, clone_model\n",
        "from keras.optimizers import Adam\n",
        "from tensorflow.keras.layers import Conv2D, Input, ConvLSTM2D,MaxPooling3D, MaxPooling2D, Flatten, Dense, Dropout, BatchNormalization, Activation, GlobalAveragePooling2D, MaxPool2D\n",
        "from tensorflow.keras.callbacks import ModelCheckpoint, EarlyStopping, Callback, LearningRateScheduler\n",
        "from tensorflow.keras.regularizers import l2\n",
        "from tensorflow.keras.applications import VGG16, VGG19, ResNet50, InceptionV3, DenseNet121, EfficientNetB2\n",
        "from tensorflow.keras.layers import LSTM, GRU, TimeDistributed, Input\n",
        "from tensorflow.keras.models import load_model\n",
        "import tensorflow as tf\n",
        "import matplotlib.pyplot as plt\n",
        "import seaborn as sns\n",
        "from sklearn.metrics import confusion_matrix\n",
        "from sklearn.metrics import classification_report\n",
        "from sklearn.metrics import accuracy_score, precision_score, recall_score, f1_score, classification_report\n",
        "import shutil\n",
        "import scipy\n",
        "\n"
      ],
      "metadata": {
        "id": "U-XgOgB45kk3"
      },
      "execution_count": 44,
      "outputs": []
    },
    {
      "cell_type": "markdown",
      "source": [
        "# 1. Load data"
      ],
      "metadata": {
        "id": "b73M9cBvTNU9"
      }
    },
    {
      "cell_type": "code",
      "source": [
        "# %reset -f"
      ],
      "metadata": {
        "id": "3dgWiRmezOZR"
      },
      "execution_count": 45,
      "outputs": []
    },
    {
      "cell_type": "code",
      "source": [
        "# from google_drive_downloader import GoogleDriveDownloader as gdd\n",
        "from google.colab import drive\n",
        "drive.mount('/content/drive')"
      ],
      "metadata": {
        "id": "EiKIbhdXTH26",
        "colab": {
          "base_uri": "https://localhost:8080/"
        },
        "outputId": "1a7929e3-04e6-47f3-8ee3-cbfdc6e81c4b"
      },
      "execution_count": 46,
      "outputs": [
        {
          "output_type": "stream",
          "name": "stdout",
          "text": [
            "Drive already mounted at /content/drive; to attempt to forcibly remount, call drive.mount(\"/content/drive\", force_remount=True).\n"
          ]
        }
      ]
    },
    {
      "cell_type": "code",
      "source": [
        "import os\n",
        "dir = os.path.join('/content/drive/My Drive/','Alzheimer','EEG_full_4D_1Hz.mat')  # Path to the Data folder"
      ],
      "metadata": {
        "id": "n3DHoImFKgM0"
      },
      "execution_count": 47,
      "outputs": []
    },
    {
      "cell_type": "code",
      "source": [
        "data = scipy.io.loadmat(dir)\n",
        "eeg_data = data['EEG']"
      ],
      "metadata": {
        "id": "ZL0jry0gJWGC"
      },
      "execution_count": 48,
      "outputs": []
    },
    {
      "cell_type": "code",
      "source": [
        "eeg_data.shape"
      ],
      "metadata": {
        "id": "J39iZ4LSJcIV",
        "colab": {
          "base_uri": "https://localhost:8080/"
        },
        "outputId": "30202fc1-6ad5-435f-f36c-ef12e3f30783"
      },
      "execution_count": 49,
      "outputs": [
        {
          "output_type": "execute_result",
          "data": {
            "text/plain": [
              "(65, 2500, 19, 74)"
            ]
          },
          "metadata": {},
          "execution_count": 49
        }
      ]
    },
    {
      "cell_type": "code",
      "source": [
        "epoch_num=data['epoch_num']"
      ],
      "metadata": {
        "id": "B64xuXO-L0F9"
      },
      "execution_count": 50,
      "outputs": []
    },
    {
      "cell_type": "code",
      "source": [
        "epoch_num.shape"
      ],
      "metadata": {
        "id": "0F3VXlGuL4eT",
        "colab": {
          "base_uri": "https://localhost:8080/"
        },
        "outputId": "c91a98a9-03a6-44e8-f29c-0460612a7b31"
      },
      "execution_count": 51,
      "outputs": [
        {
          "output_type": "execute_result",
          "data": {
            "text/plain": [
              "(1, 88)"
            ]
          },
          "metadata": {},
          "execution_count": 51
        }
      ]
    },
    {
      "cell_type": "markdown",
      "source": [
        "# 2. Devide data"
      ],
      "metadata": {
        "id": "_crUcmoOyXO2"
      }
    },
    {
      "cell_type": "code",
      "source": [
        "lobes = {\n",
        "    'Pre-frontal': [1, 2],\n",
        "    'Frontal': [3, 4, 11, 12, 17],\n",
        "    'Temporal': [13, 14, 15, 16],\n",
        "    'Parietal': [7, 8, 19],\n",
        "    'Central': [5, 6, 18],\n",
        "    'Occipital': [9, 10]\n",
        "}"
      ],
      "metadata": {
        "id": "AVUzUPbEygWI"
      },
      "execution_count": 52,
      "outputs": []
    },
    {
      "cell_type": "code",
      "source": [
        "# Iterate over each subject's data\n",
        "for subject_idx in range(eeg_data.shape[0]):\n",
        "    subject_data = eeg_data[subject_idx, :, :,:]  # EEG data for the current subject\n",
        "\n",
        "    # Create directory to save time-series\n",
        "    save_dir = os.path.join('/content','Alzheimer','Time_series')\n",
        "    if not os.path.exists(save_dir):\n",
        "        os.makedirs(save_dir)\n",
        "\n",
        "    # Iterate over each channel\n",
        "    # channels_of_interest = [17,18]\n",
        "\n",
        "    # for channel_idx in channels_of_interest:\n",
        "    for channel_idx in range(subject_data.shape[1]):\n",
        "        channel_data = subject_data[:,channel_idx, :]  # EEG data for the current channel\n",
        "\n",
        "        # Iterate over each 10-second segment\n",
        "        for seg_idx in range(epoch_num[0,subject_idx]):\n",
        "\n",
        "            segment_data = channel_data[:,seg_idx]      # EEG data for the current Segment\n",
        "\n",
        "            # Save all time-series\n",
        "            save_path = os.path.join(save_dir, 'All lobes',f'subject{subject_idx + 1}')\n",
        "            if not os.path.exists(save_path):\n",
        "                os.makedirs(save_path)\n",
        "            save_path2 = os.path.join(save_path, f'subject{subject_idx + 1}_channel{channel_idx + 1}_segment{seg_idx + 1}')\n",
        "            np.save(save_path2,segment_data)\n",
        "\n",
        "\n",
        "\n",
        "            # Save spectrogram image for each lobe\n",
        "            for lobe_name, lobe_channels in lobes.items():\n",
        "                if channel_idx + 1 in lobe_channels:\n",
        "                    save_dir2 = os.path.join('/content/', 'Alzheimer', 'Time_series', lobe_name,f'subject{subject_idx + 1}')\n",
        "                    if not os.path.exists(save_dir2):\n",
        "                        os.makedirs(save_dir2)\n",
        "                    save_path = os.path.join(save_dir2, f'subject{subject_idx + 1}_channel{channel_idx + 1}_segment{seg_idx + 1}')\n",
        "\n",
        "                    np.save(save_path, segment_data)\n",
        "\n",
        "\n",
        "print(\"saved successfully.\")"
      ],
      "metadata": {
        "colab": {
          "base_uri": "https://localhost:8080/"
        },
        "id": "aHwSSv7TtLVZ",
        "outputId": "27d0b3c7-0ec4-49d2-b30d-b035ef855baf"
      },
      "execution_count": 53,
      "outputs": [
        {
          "output_type": "stream",
          "name": "stdout",
          "text": [
            "saved successfully.\n"
          ]
        }
      ]
    },
    {
      "cell_type": "markdown",
      "metadata": {
        "id": "Q9KD_G97U4NJ"
      },
      "source": [
        "# Train/ Test Split"
      ]
    },
    {
      "cell_type": "code",
      "source": [
        "data_dir = '/content/Alzheimer/Time_series/All lobes'\n",
        "\n",
        "def extract_numeric_part(folder_name):\n",
        "    parts = folder_name.split('_')\n",
        "    for part in parts:\n",
        "        if part.startswith('subject'):\n",
        "            return int(part.replace('subject', ''))\n",
        "    return -1  # Return -1 if no numeric part is found\n",
        "\n",
        "folders = sorted([f for f in os.listdir(data_dir) if os.path.isdir(os.path.join(data_dir, f))], key=extract_numeric_part)\n",
        "\n",
        "subject_folders, labels = [], []\n",
        "\n",
        "for folder_name in folders:\n",
        "    subject_num = extract_numeric_part(folder_name)\n",
        "    subject_folder = os.path.join(data_dir, folder_name)\n",
        "    subject_folders.append(subject_folder)\n",
        "\n",
        "    if subject_num <= 36:\n",
        "        labels.append(0)  # AD group\n",
        "    elif 37 <= subject_num <= 65:\n",
        "        labels.append(1)  # HC group\n",
        "\n",
        "subject_folders = np.array(subject_folders)\n",
        "labels = np.array(labels)\n",
        "\n",
        "print(\"Subject Folders:\", subject_folders)\n",
        "print(\"Labels:\", labels)"
      ],
      "metadata": {
        "id": "sbKw69HjYufV",
        "colab": {
          "base_uri": "https://localhost:8080/"
        },
        "outputId": "edbfdf9a-0fcb-47b9-bb43-a8c125fa0b68"
      },
      "execution_count": 160,
      "outputs": [
        {
          "output_type": "stream",
          "name": "stdout",
          "text": [
            "Subject Folders: ['/content/Alzheimer/Time_series/All lobes/subject1'\n",
            " '/content/Alzheimer/Time_series/All lobes/subject2'\n",
            " '/content/Alzheimer/Time_series/All lobes/subject3'\n",
            " '/content/Alzheimer/Time_series/All lobes/subject4'\n",
            " '/content/Alzheimer/Time_series/All lobes/subject5'\n",
            " '/content/Alzheimer/Time_series/All lobes/subject6'\n",
            " '/content/Alzheimer/Time_series/All lobes/subject7'\n",
            " '/content/Alzheimer/Time_series/All lobes/subject8'\n",
            " '/content/Alzheimer/Time_series/All lobes/subject9'\n",
            " '/content/Alzheimer/Time_series/All lobes/subject10'\n",
            " '/content/Alzheimer/Time_series/All lobes/subject11'\n",
            " '/content/Alzheimer/Time_series/All lobes/subject12'\n",
            " '/content/Alzheimer/Time_series/All lobes/subject13'\n",
            " '/content/Alzheimer/Time_series/All lobes/subject14'\n",
            " '/content/Alzheimer/Time_series/All lobes/subject15'\n",
            " '/content/Alzheimer/Time_series/All lobes/subject16'\n",
            " '/content/Alzheimer/Time_series/All lobes/subject17'\n",
            " '/content/Alzheimer/Time_series/All lobes/subject18'\n",
            " '/content/Alzheimer/Time_series/All lobes/subject19'\n",
            " '/content/Alzheimer/Time_series/All lobes/subject20'\n",
            " '/content/Alzheimer/Time_series/All lobes/subject21'\n",
            " '/content/Alzheimer/Time_series/All lobes/subject22'\n",
            " '/content/Alzheimer/Time_series/All lobes/subject23'\n",
            " '/content/Alzheimer/Time_series/All lobes/subject24'\n",
            " '/content/Alzheimer/Time_series/All lobes/subject25'\n",
            " '/content/Alzheimer/Time_series/All lobes/subject26'\n",
            " '/content/Alzheimer/Time_series/All lobes/subject27'\n",
            " '/content/Alzheimer/Time_series/All lobes/subject28'\n",
            " '/content/Alzheimer/Time_series/All lobes/subject29'\n",
            " '/content/Alzheimer/Time_series/All lobes/subject30'\n",
            " '/content/Alzheimer/Time_series/All lobes/subject31'\n",
            " '/content/Alzheimer/Time_series/All lobes/subject32'\n",
            " '/content/Alzheimer/Time_series/All lobes/subject33'\n",
            " '/content/Alzheimer/Time_series/All lobes/subject34'\n",
            " '/content/Alzheimer/Time_series/All lobes/subject35'\n",
            " '/content/Alzheimer/Time_series/All lobes/subject36'\n",
            " '/content/Alzheimer/Time_series/All lobes/subject37'\n",
            " '/content/Alzheimer/Time_series/All lobes/subject38'\n",
            " '/content/Alzheimer/Time_series/All lobes/subject39'\n",
            " '/content/Alzheimer/Time_series/All lobes/subject40'\n",
            " '/content/Alzheimer/Time_series/All lobes/subject41'\n",
            " '/content/Alzheimer/Time_series/All lobes/subject42'\n",
            " '/content/Alzheimer/Time_series/All lobes/subject43'\n",
            " '/content/Alzheimer/Time_series/All lobes/subject44'\n",
            " '/content/Alzheimer/Time_series/All lobes/subject45'\n",
            " '/content/Alzheimer/Time_series/All lobes/subject46'\n",
            " '/content/Alzheimer/Time_series/All lobes/subject47'\n",
            " '/content/Alzheimer/Time_series/All lobes/subject48'\n",
            " '/content/Alzheimer/Time_series/All lobes/subject49'\n",
            " '/content/Alzheimer/Time_series/All lobes/subject50'\n",
            " '/content/Alzheimer/Time_series/All lobes/subject51'\n",
            " '/content/Alzheimer/Time_series/All lobes/subject52'\n",
            " '/content/Alzheimer/Time_series/All lobes/subject53'\n",
            " '/content/Alzheimer/Time_series/All lobes/subject54'\n",
            " '/content/Alzheimer/Time_series/All lobes/subject55'\n",
            " '/content/Alzheimer/Time_series/All lobes/subject56'\n",
            " '/content/Alzheimer/Time_series/All lobes/subject57'\n",
            " '/content/Alzheimer/Time_series/All lobes/subject58'\n",
            " '/content/Alzheimer/Time_series/All lobes/subject59'\n",
            " '/content/Alzheimer/Time_series/All lobes/subject60'\n",
            " '/content/Alzheimer/Time_series/All lobes/subject61'\n",
            " '/content/Alzheimer/Time_series/All lobes/subject62'\n",
            " '/content/Alzheimer/Time_series/All lobes/subject63'\n",
            " '/content/Alzheimer/Time_series/All lobes/subject64'\n",
            " '/content/Alzheimer/Time_series/All lobes/subject65']\n",
            "Labels: [0 0 0 0 0 0 0 0 0 0 0 0 0 0 0 0 0 0 0 0 0 0 0 0 0 0 0 0 0 0 0 0 0 0 0 0 1\n",
            " 1 1 1 1 1 1 1 1 1 1 1 1 1 1 1 1 1 1 1 1 1 1 1 1 1 1 1 1]\n"
          ]
        }
      ]
    },
    {
      "cell_type": "code",
      "source": [
        "def load_series_and_labels(subjects, labels):\n",
        "    series, labels_t = [], []\n",
        "    for subject_folder, label in zip(subjects, labels):\n",
        "        for filename in os.listdir(subject_folder):\n",
        "            series_path = os.path.join(subject_folder, filename.decode())\n",
        "            try:\n",
        "                ser = np.load(series_path)\n",
        "\n",
        "\n",
        "                series.append(ser)\n",
        "                labels_t.append(label)\n",
        "            except Exception as e:\n",
        "                print(f\"Error loading time-series: {series_path}, {e}\")\n",
        "\n",
        "    return np.array(series), np.array(labels_t)\n"
      ],
      "metadata": {
        "id": "xDsBWrRp6SRp"
      },
      "execution_count": 161,
      "outputs": []
    },
    {
      "cell_type": "code",
      "source": [
        "def load_and_preprocess_data(subject_folders, labels):\n",
        "    train_subjects, test_subjects, train_labels, test_labels = train_test_split(subject_folders, labels, test_size=0.2, stratify=labels)\n",
        "\n",
        "    train_subjects, val_subjects, train_labels, val_labels = train_test_split(train_subjects, train_labels, test_size=0.1, stratify=train_labels)\n",
        "\n",
        "    train_series, train_labels_t = load_series_and_labels(train_subjects, train_labels)\n",
        "    val_series, val_labels_t = load_series_and_labels(val_subjects, val_labels)\n",
        "\n",
        "    test_image_counts_per_subject = [len(os.listdir(folder)) for folder in test_subjects]\n",
        "\n",
        "    test_series, test_labels_t = load_series_and_labels(test_subjects, test_labels)\n",
        "\n",
        "    return train_series, train_labels_t, val_series, val_labels_t, test_series, test_labels_t, test_subjects, test_image_counts_per_subject\n",
        "\n"
      ],
      "metadata": {
        "id": "Q3Ozf2qM7Qd_"
      },
      "execution_count": 162,
      "outputs": []
    },
    {
      "cell_type": "markdown",
      "metadata": {
        "id": "tHUEYWGzVUNe"
      },
      "source": [
        "# Conv1D"
      ]
    },
    {
      "cell_type": "markdown",
      "source": [
        "## Adapt data to the model definition"
      ],
      "metadata": {
        "id": "_bkBtMC8-qrZ"
      }
    },
    {
      "cell_type": "code",
      "source": [
        "train_series, train_labels_t, val_series, val_labels_t, test_series, test_labels_t, test_subjects, test_image_counts_per_subject = load_and_preprocess_data(subject_folders, labels)"
      ],
      "metadata": {
        "id": "QU4UoHqX79sw"
      },
      "execution_count": 163,
      "outputs": []
    },
    {
      "cell_type": "code",
      "source": [
        "train_series = train_series[..., np.newaxis]  # Shape becomes (5445, 2500, 1)\n",
        "val_series = val_series[..., np.newaxis]      # Shape becomes (831, 2500, 1)\n",
        "test_series = test_series[..., np.newaxis]    # Shape becomes (1659, 2500, 1)\n",
        "\n",
        "print(\"Training set shape:\", train_series.shape)\n",
        "print(\"Validation set shape:\", val_series.shape)\n",
        "print(\"Test set shape:\", test_series.shape)\n",
        "print(\"Training labels shape:\", train_labels_t.shape)\n",
        "print(\"Validation labels shape:\", val_labels_t.shape)\n",
        "print(\"Test labels shape:\", test_labels_t.shape)\n"
      ],
      "metadata": {
        "colab": {
          "base_uri": "https://localhost:8080/"
        },
        "id": "hLAqp0p8_zO5",
        "outputId": "91be7e2c-ba07-4842-c935-91393227ccfb"
      },
      "execution_count": 164,
      "outputs": [
        {
          "output_type": "stream",
          "name": "stdout",
          "text": [
            "Training set shape: (36328, 2500, 1)\n",
            "Validation set shape: (4978, 2500, 1)\n",
            "Test set shape: (8949, 2500, 1)\n",
            "Training labels shape: (36328,)\n",
            "Validation labels shape: (4978,)\n",
            "Test labels shape: (8949,)\n"
          ]
        }
      ]
    },
    {
      "cell_type": "markdown",
      "source": [
        "## Model definition"
      ],
      "metadata": {
        "id": "OtFBQBgS_1cZ"
      }
    },
    {
      "cell_type": "code",
      "execution_count": 165,
      "metadata": {
        "colab": {
          "base_uri": "https://localhost:8080/"
        },
        "id": "c6pywgGaTzCk",
        "outputId": "4bb49c06-fa6a-481f-f600-c0e708e337e4"
      },
      "outputs": [
        {
          "output_type": "stream",
          "name": "stdout",
          "text": [
            "Model: \"sequential_13\"\n",
            "_________________________________________________________________\n",
            " Layer (type)                Output Shape              Param #   \n",
            "=================================================================\n",
            " conv1d_26 (Conv1D)          (None, 2496, 32)          192       \n",
            "                                                                 \n",
            " batch_normalization_26 (Ba  (None, 2496, 32)          128       \n",
            " tchNormalization)                                               \n",
            "                                                                 \n",
            " max_pooling1d_26 (MaxPooli  (None, 1248, 32)          0         \n",
            " ng1D)                                                           \n",
            "                                                                 \n",
            " conv1d_27 (Conv1D)          (None, 1244, 32)          5152      \n",
            "                                                                 \n",
            " batch_normalization_27 (Ba  (None, 1244, 32)          128       \n",
            " tchNormalization)                                               \n",
            "                                                                 \n",
            " max_pooling1d_27 (MaxPooli  (None, 622, 32)           0         \n",
            " ng1D)                                                           \n",
            "                                                                 \n",
            " flatten_13 (Flatten)        (None, 19904)             0         \n",
            "                                                                 \n",
            " dense_26 (Dense)            (None, 64)                1273920   \n",
            "                                                                 \n",
            " dropout_13 (Dropout)        (None, 64)                0         \n",
            "                                                                 \n",
            " dense_27 (Dense)            (None, 1)                 65        \n",
            "                                                                 \n",
            "=================================================================\n",
            "Total params: 1279585 (4.88 MB)\n",
            "Trainable params: 1279457 (4.88 MB)\n",
            "Non-trainable params: 128 (512.00 Byte)\n",
            "_________________________________________________________________\n"
          ]
        }
      ],
      "source": [
        "import tensorflow as tf\n",
        "from tensorflow.keras.models import Sequential\n",
        "from tensorflow.keras.layers import Conv1D, BatchNormalization, MaxPooling1D, Flatten, Dense, Dropout\n",
        "\n",
        "def create_cnn_model(input_shape, learning_rate):\n",
        "    model = Sequential([\n",
        "        # First block of conv, batch norm, and max pooling\n",
        "        Conv1D(32, kernel_size=5, activation='relu', input_shape=input_shape),\n",
        "        BatchNormalization(),\n",
        "        MaxPooling1D(pool_size=2),\n",
        "\n",
        "        # Second block of conv, batch norm, and max pooling\n",
        "        Conv1D(32, kernel_size=5, activation='relu'),\n",
        "        BatchNormalization(),\n",
        "        MaxPooling1D(pool_size=2),\n",
        "\n",
        "        Flatten(),\n",
        "        Dense(64, activation='relu'),\n",
        "        Dropout(0.4),  # Add dropout for regularization\n",
        "        Dense(1, activation='sigmoid')\n",
        "    ])\n",
        "\n",
        "    return model\n",
        "\n",
        "lr_scheduler = tf.keras.callbacks.ReduceLROnPlateau(factor=0.5, patience=7, min_lr=1e-6)\n",
        "\n",
        "# Create the model with the correct input shape\n",
        "model = create_cnn_model((2500, 1), 0.0001)\n",
        "model.compile(optimizer='adam', loss='binary_crossentropy', metrics=['accuracy'])\n",
        "model.summary()\n",
        "\n"
      ]
    },
    {
      "cell_type": "markdown",
      "source": [
        "## Train the model\n"
      ],
      "metadata": {
        "id": "MaGY7YOdAJc5"
      }
    },
    {
      "cell_type": "code",
      "execution_count": 166,
      "metadata": {
        "colab": {
          "base_uri": "https://localhost:8080/"
        },
        "id": "XtjaAg9mVjwj",
        "outputId": "d03c81aa-eb08-4c97-9a9b-ef307f339deb"
      },
      "outputs": [
        {
          "output_type": "stream",
          "name": "stdout",
          "text": [
            "Epoch 1/25\n",
            "1136/1136 [==============================] - 13s 9ms/step - loss: 0.5331 - accuracy: 0.7305 - val_loss: 0.8087 - val_accuracy: 0.6464 - lr: 0.0010\n",
            "Epoch 2/25\n",
            "1136/1136 [==============================] - 10s 9ms/step - loss: 0.4282 - accuracy: 0.7836 - val_loss: 1.0406 - val_accuracy: 0.6332 - lr: 0.0010\n",
            "Epoch 3/25\n",
            "1136/1136 [==============================] - 11s 9ms/step - loss: 0.3531 - accuracy: 0.8267 - val_loss: 1.0507 - val_accuracy: 0.6474 - lr: 0.0010\n",
            "Epoch 4/25\n",
            "1136/1136 [==============================] - 10s 9ms/step - loss: 0.2891 - accuracy: 0.8612 - val_loss: 1.3371 - val_accuracy: 0.5930 - lr: 0.0010\n",
            "Epoch 5/25\n",
            "1136/1136 [==============================] - 10s 9ms/step - loss: 0.2405 - accuracy: 0.8889 - val_loss: 1.5254 - val_accuracy: 0.6362 - lr: 0.0010\n",
            "Epoch 6/25\n",
            "1136/1136 [==============================] - 10s 9ms/step - loss: 0.2035 - accuracy: 0.9062 - val_loss: 1.4908 - val_accuracy: 0.6458 - lr: 0.0010\n",
            "Epoch 7/25\n",
            "1136/1136 [==============================] - 11s 9ms/step - loss: 0.1766 - accuracy: 0.9200 - val_loss: 1.7572 - val_accuracy: 0.6521 - lr: 0.0010\n",
            "Epoch 8/25\n",
            "1136/1136 [==============================] - 9s 8ms/step - loss: 0.1580 - accuracy: 0.9276 - val_loss: 1.7851 - val_accuracy: 0.6559 - lr: 0.0010\n",
            "Epoch 9/25\n",
            "1136/1136 [==============================] - 10s 9ms/step - loss: 0.1219 - accuracy: 0.9454 - val_loss: 2.0426 - val_accuracy: 0.6300 - lr: 5.0000e-04\n",
            "Epoch 10/25\n",
            "1136/1136 [==============================] - 10s 9ms/step - loss: 0.1055 - accuracy: 0.9519 - val_loss: 2.6640 - val_accuracy: 0.5862 - lr: 5.0000e-04\n",
            "Epoch 11/25\n",
            "1136/1136 [==============================] - 10s 9ms/step - loss: 0.0933 - accuracy: 0.9590 - val_loss: 1.9015 - val_accuracy: 0.6627 - lr: 5.0000e-04\n",
            "Epoch 12/25\n",
            "1136/1136 [==============================] - 10s 9ms/step - loss: 0.0850 - accuracy: 0.9621 - val_loss: 2.8012 - val_accuracy: 0.6189 - lr: 5.0000e-04\n",
            "Epoch 13/25\n",
            "1136/1136 [==============================] - 10s 9ms/step - loss: 0.0819 - accuracy: 0.9628 - val_loss: 2.6475 - val_accuracy: 0.6117 - lr: 5.0000e-04\n",
            "Epoch 14/25\n",
            "1136/1136 [==============================] - 10s 9ms/step - loss: 0.0763 - accuracy: 0.9667 - val_loss: 2.5530 - val_accuracy: 0.6205 - lr: 5.0000e-04\n",
            "Epoch 15/25\n",
            "1136/1136 [==============================] - 10s 8ms/step - loss: 0.0733 - accuracy: 0.9677 - val_loss: 2.6071 - val_accuracy: 0.6388 - lr: 5.0000e-04\n",
            "Epoch 16/25\n",
            "1136/1136 [==============================] - 10s 9ms/step - loss: 0.0600 - accuracy: 0.9725 - val_loss: 2.7165 - val_accuracy: 0.6430 - lr: 2.5000e-04\n",
            "Epoch 17/25\n",
            "1136/1136 [==============================] - 10s 9ms/step - loss: 0.0568 - accuracy: 0.9737 - val_loss: 2.6748 - val_accuracy: 0.6306 - lr: 2.5000e-04\n",
            "Epoch 18/25\n",
            "1136/1136 [==============================] - 10s 9ms/step - loss: 0.0537 - accuracy: 0.9765 - val_loss: 3.1556 - val_accuracy: 0.6256 - lr: 2.5000e-04\n",
            "Epoch 19/25\n",
            "1136/1136 [==============================] - 10s 9ms/step - loss: 0.0525 - accuracy: 0.9765 - val_loss: 3.0536 - val_accuracy: 0.6589 - lr: 2.5000e-04\n",
            "Epoch 20/25\n",
            "1136/1136 [==============================] - 12s 10ms/step - loss: 0.0470 - accuracy: 0.9784 - val_loss: 2.7104 - val_accuracy: 0.6412 - lr: 2.5000e-04\n",
            "Epoch 21/25\n",
            "1136/1136 [==============================] - 10s 9ms/step - loss: 0.0465 - accuracy: 0.9790 - val_loss: 3.1181 - val_accuracy: 0.6479 - lr: 2.5000e-04\n",
            "Epoch 22/25\n",
            "1136/1136 [==============================] - 10s 9ms/step - loss: 0.0432 - accuracy: 0.9798 - val_loss: 3.0640 - val_accuracy: 0.6458 - lr: 2.5000e-04\n",
            "Epoch 23/25\n",
            "1136/1136 [==============================] - 10s 9ms/step - loss: 0.0400 - accuracy: 0.9816 - val_loss: 3.5185 - val_accuracy: 0.6334 - lr: 1.2500e-04\n",
            "Epoch 24/25\n",
            "1136/1136 [==============================] - 11s 9ms/step - loss: 0.0399 - accuracy: 0.9814 - val_loss: 3.2867 - val_accuracy: 0.6404 - lr: 1.2500e-04\n",
            "Epoch 25/25\n",
            "1136/1136 [==============================] - 10s 8ms/step - loss: 0.0362 - accuracy: 0.9826 - val_loss: 2.9335 - val_accuracy: 0.6515 - lr: 1.2500e-04\n"
          ]
        }
      ],
      "source": [
        "hist = model.fit(train_series, train_labels_t, validation_data=(val_series, val_labels_t), epochs=25, batch_size=32, callbacks=[lr_scheduler])\n"
      ]
    },
    {
      "cell_type": "code",
      "execution_count": 167,
      "metadata": {
        "colab": {
          "base_uri": "https://localhost:8080/",
          "height": 1000
        },
        "id": "-mHl5iAVm77Y",
        "outputId": "e677cfc1-b400-418d-89a1-07d5e1708286"
      },
      "outputs": [
        {
          "output_type": "display_data",
          "data": {
            "text/plain": [
              "<Figure size 1200x600 with 2 Axes>"
            ],
            "image/png": "[encoded data removed]"
          },
          "metadata": {}
        },
        {
          "output_type": "display_data",
          "data": {
            "text/plain": [
              "<Figure size 1200x600 with 2 Axes>"
            ],
            "image/png": "[encoded data removed]"
          },
          "metadata": {}
        }
      ],
      "source": [
        "import matplotlib.pyplot as plt\n",
        "\n",
        "# Plotting training loss\n",
        "plt.figure(figsize=(12, 6))\n",
        "plt.subplot(1, 2, 1)\n",
        "plt.plot(hist.history['loss'], label='Training Loss', color='cyan')\n",
        "plt.xlabel('Epoch')\n",
        "plt.ylabel('Loss')\n",
        "plt.title('Training Loss')\n",
        "plt.legend()\n",
        "\n",
        "# Plotting training accuracy\n",
        "plt.subplot(1, 2, 2)\n",
        "plt.plot(hist.history['accuracy'], label='Training Accuracy', color='purple')\n",
        "plt.xlabel('Epoch')\n",
        "plt.ylabel('Accuracy')\n",
        "plt.title('Training Accuracy')\n",
        "plt.legend()\n",
        "\n",
        "# Plotting validation loss\n",
        "plt.figure(figsize=(12, 6))\n",
        "plt.subplot(1, 2, 1)\n",
        "plt.plot(hist.history['val_loss'], label='Validation Loss', color='cyan')\n",
        "plt.xlabel('Epoch')\n",
        "plt.ylabel('Loss')\n",
        "plt.title('Validation Loss')\n",
        "plt.legend()\n",
        "\n",
        "# Plotting validation accuracy\n",
        "plt.subplot(1, 2, 2)\n",
        "plt.plot(hist.history['val_accuracy'], label='Validation Accuracy', color='purple')\n",
        "plt.xlabel('Epoch')\n",
        "plt.ylabel('Accuracy')\n",
        "plt.title('Validation Accuracy')\n",
        "plt.legend()\n",
        "\n",
        "plt.tight_layout()\n",
        "plt.show()\n"
      ]
    },
    {
      "cell_type": "markdown",
      "source": [
        "## Test Model"
      ],
      "metadata": {
        "id": "clvq5t52Ak6p"
      }
    },
    {
      "cell_type": "code",
      "execution_count": 169,
      "metadata": {
        "colab": {
          "base_uri": "https://localhost:8080/"
        },
        "id": "MWlXczHlnhCm",
        "outputId": "879724cd-d5e8-41d7-d9c8-0641d494cf17"
      },
      "outputs": [
        {
          "output_type": "stream",
          "name": "stdout",
          "text": [
            "280/280 [==============================] - 1s 4ms/step - loss: 1.4490 - accuracy: 0.7119\n",
            "Test loss: 1.4490445852279663, Test accuracy: 0.7119231224060059\n"
          ]
        }
      ],
      "source": [
        "# Evaluate the model\n",
        "loss, accuracy = model.evaluate(test_series, test_labels_t)\n",
        "print(f\"Test loss: {loss}, Test accuracy: {accuracy}\")\n",
        "\n",
        "# # Make predictions\n",
        "# predictions = model.predict(x_new_data)\n",
        "\n",
        "# # Save the model\n",
        "# model.save('my_model.h5')\n",
        "\n",
        "# # Load the model (if needed later)\n",
        "# from tensorflow.keras.models import load_model\n",
        "# model = load_model('my_model.h5')\n"
      ]
    },
    {
      "cell_type": "markdown",
      "source": [
        "# LSTM"
      ],
      "metadata": {
        "id": "Y-STF4a_OYG8"
      }
    },
    {
      "cell_type": "code",
      "execution_count": null,
      "metadata": {
        "id": "KlhrJwBrRu9I"
      },
      "outputs": [],
      "source": [
        "X = data_array\n",
        "y = np.array([1]*36 + [0]*29)\n",
        "\n",
        "import numpy as np\n",
        "from sklearn.model_selection import train_test_split\n",
        "\n",
        "\n",
        "# Normalize data\n",
        "# X_normalized = X / np.max(X, axis=2, keepdims=True)\n",
        "# should I normalize?\n",
        "\n",
        "\n",
        "X_train, X_test, y_train, y_test = train_test_split(X, y, test_size=0.2, random_state=42,  shuffle = True)"
      ]
    },
    {
      "cell_type": "code",
      "execution_count": null,
      "metadata": {
        "colab": {
          "base_uri": "https://localhost:8080/"
        },
        "id": "6zY_TOamOmdh",
        "outputId": "304f2140-3543-4304-d5c9-4fbcd32108ae"
      },
      "outputs": [
        {
          "data": {
            "text/plain": [
              "1406"
            ]
          },
          "execution_count": 17,
          "metadata": {},
          "output_type": "execute_result"
        }
      ],
      "source": [
        "import numpy as np\n",
        "import tensorflow as tf\n",
        "from tensorflow.keras.models import Sequential\n",
        "from tensorflow.keras.layers import LSTM, Dense, Dropout\n",
        "\n",
        "# Model parameters\n",
        "n_features = X_train.shape[2]  # number of features per timestep\n",
        "n_outputs = 2  # number of output classes\n",
        "\n",
        "n_features"
      ]
    },
    {
      "cell_type": "code",
      "execution_count": null,
      "metadata": {
        "colab": {
          "base_uri": "https://localhost:8080/"
        },
        "id": "529DBooXSCuu",
        "outputId": "850ab32a-d7bc-424a-d864-9122d0e23022"
      },
      "outputs": [
        {
          "name": "stdout",
          "output_type": "stream",
          "text": [
            "Model: \"sequential_4\"\n",
            "_________________________________________________________________\n",
            " Layer (type)                Output Shape              Param #   \n",
            "=================================================================\n",
            " lstm (LSTM)                 (None, None, 100)         602800    \n",
            "                                                                 \n",
            " dropout_4 (Dropout)         (None, None, 100)         0         \n",
            "                                                                 \n",
            " lstm_1 (LSTM)               (None, 50)                30200     \n",
            "                                                                 \n",
            " dense_8 (Dense)             (None, 2)                 102       \n",
            "                                                                 \n",
            "=================================================================\n",
            "Total params: 633102 (2.42 MB)\n",
            "Trainable params: 633102 (2.42 MB)\n",
            "Non-trainable params: 0 (0.00 Byte)\n",
            "_________________________________________________________________\n"
          ]
        }
      ],
      "source": [
        "model_LSTM = Sequential([\n",
        "    LSTM(100, return_sequences=True, input_shape=(None, n_features)),\n",
        "    Dropout(0.5),\n",
        "    LSTM(50),\n",
        "    Dense(n_outputs, activation='softmax')\n",
        "])\n",
        "\n",
        "model_LSTM.compile(loss='categorical_crossentropy', optimizer='adam', metrics=['accuracy'])\n",
        "model_LSTM.summary()"
      ]
    },
    {
      "cell_type": "code",
      "execution_count": null,
      "metadata": {
        "id": "QAIb7Ra1rwBd"
      },
      "outputs": [],
      "source": [
        "from tensorflow.keras.utils import to_categorical\n",
        "y_train = to_categorical(y_train)\n",
        "y_test = to_categorical(y_test)\n"
      ]
    },
    {
      "cell_type": "code",
      "execution_count": null,
      "metadata": {
        "colab": {
          "base_uri": "https://localhost:8080/"
        },
        "id": "EjXE-JE1SYcf",
        "outputId": "682f944e-8954-495d-abf0-9c0f3c534f2f"
      },
      "outputs": [
        {
          "name": "stdout",
          "output_type": "stream",
          "text": [
            "Epoch 1/20\n",
            "1/1 [==============================] - 6s 6s/step - loss: 0.6925 - accuracy: 0.5962\n",
            "Epoch 2/20\n",
            "1/1 [==============================] - 0s 458ms/step - loss: 0.6660 - accuracy: 0.6346\n",
            "Epoch 3/20\n",
            "1/1 [==============================] - 1s 531ms/step - loss: 0.6480 - accuracy: 0.6346\n",
            "Epoch 4/20\n",
            "1/1 [==============================] - 1s 530ms/step - loss: 0.6382 - accuracy: 0.6346\n",
            "Epoch 5/20\n",
            "1/1 [==============================] - 1s 552ms/step - loss: 0.6259 - accuracy: 0.6346\n",
            "Epoch 6/20\n",
            "1/1 [==============================] - 1s 544ms/step - loss: 0.6136 - accuracy: 0.6346\n",
            "Epoch 7/20\n",
            "1/1 [==============================] - 1s 520ms/step - loss: 0.5990 - accuracy: 0.6346\n",
            "Epoch 8/20\n",
            "1/1 [==============================] - 1s 603ms/step - loss: 0.5818 - accuracy: 0.6346\n",
            "Epoch 9/20\n",
            "1/1 [==============================] - 1s 642ms/step - loss: 0.5499 - accuracy: 0.6346\n",
            "Epoch 10/20\n",
            "1/1 [==============================] - 1s 775ms/step - loss: 0.4738 - accuracy: 0.7308\n",
            "Epoch 11/20\n",
            "1/1 [==============================] - 1s 759ms/step - loss: 0.3029 - accuracy: 0.8462\n",
            "Epoch 12/20\n",
            "1/1 [==============================] - 1s 885ms/step - loss: 0.1064 - accuracy: 1.0000\n",
            "Epoch 13/20\n",
            "1/1 [==============================] - 1s 924ms/step - loss: 0.0417 - accuracy: 1.0000\n",
            "Epoch 14/20\n",
            "1/1 [==============================] - 1s 833ms/step - loss: 0.0253 - accuracy: 1.0000\n",
            "Epoch 15/20\n",
            "1/1 [==============================] - 1s 960ms/step - loss: 0.0186 - accuracy: 1.0000\n",
            "Epoch 16/20\n",
            "1/1 [==============================] - 1s 799ms/step - loss: 0.0145 - accuracy: 1.0000\n",
            "Epoch 17/20\n",
            "1/1 [==============================] - 1s 622ms/step - loss: 0.0111 - accuracy: 1.0000\n",
            "Epoch 18/20\n",
            "1/1 [==============================] - 1s 633ms/step - loss: 0.0094 - accuracy: 1.0000\n",
            "Epoch 19/20\n",
            "1/1 [==============================] - 1s 631ms/step - loss: 0.0077 - accuracy: 1.0000\n",
            "Epoch 20/20\n",
            "1/1 [==============================] - 1s 584ms/step - loss: 0.0060 - accuracy: 1.0000\n"
          ]
        }
      ],
      "source": [
        "# Assuming X_train and y_train are your training data and labels\n",
        "hist_LSTM = model_LSTM.fit(X_train, y_train, epochs=20, batch_size=64)"
      ]
    },
    {
      "cell_type": "code",
      "execution_count": null,
      "metadata": {
        "colab": {
          "base_uri": "https://localhost:8080/"
        },
        "id": "1bMN0n1NTJCU",
        "outputId": "fa1c8618-9da3-4d52-d1da-2807ca941ca5"
      },
      "outputs": [
        {
          "data": {
            "text/plain": [
              "(13, 2500, 1406)"
            ]
          },
          "execution_count": 21,
          "metadata": {},
          "output_type": "execute_result"
        }
      ],
      "source": [
        "X_test.shape"
      ]
    },
    {
      "cell_type": "code",
      "execution_count": null,
      "metadata": {
        "colab": {
          "base_uri": "https://localhost:8080/"
        },
        "id": "HHZvkArGTM96",
        "outputId": "74420300-e4b6-46e0-e3b8-933aa38695d8"
      },
      "outputs": [
        {
          "name": "stdout",
          "output_type": "stream",
          "text": [
            "1/1 [==============================] - 5s 5s/step - loss: 2.4119 - accuracy: 0.5385\n",
            "Test loss: 2.411938190460205, Test accuracy: 0.5384615659713745\n"
          ]
        }
      ],
      "source": [
        "# Evaluate the model\n",
        "loss_LSTM, accuracy_LSTM = model_LSTM.evaluate(X_test, y_test)\n",
        "print(f\"Test loss: {loss_LSTM}, Test accuracy: {accuracy_LSTM}\")"
      ]
    }
  ],
  "metadata": {
    "accelerator": "GPU",
    "colab": {
      "gpuType": "T4",
      "provenance": [],
      "collapsed_sections": [
        "Y-STF4a_OYG8"
      ],
      "toc_visible": true,
      "include_colab_link": true
    },
    "kernelspec": {
      "display_name": "Python 3",
      "name": "python3"
    },
    "language_info": {
      "codemirror_mode": {
        "name": "ipython",
        "version": 3
      },
      "file_extension": ".py",
      "mimetype": "text/x-python",
      "name": "python",
      "nbconvert_exporter": "python",
      "pygments_lexer": "ipython3",
      "version": "3.9.6"
    }
  },
  "nbformat": 4,
  "nbformat_minor": 0
}